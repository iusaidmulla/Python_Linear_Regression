{
 "cells": [
  {
   "cell_type": "code",
   "execution_count": 6,
   "id": "a2082cc8",
   "metadata": {},
   "outputs": [],
   "source": [
    "import pandas as pd\n",
    "import numpy as np\n",
    "import matplotlib.pyplot as plt\n",
    "\n",
    "# linear regression\n",
    "from sklearn.linear_model import LinearRegression"
   ]
  },
  {
   "cell_type": "code",
   "execution_count": 7,
   "id": "d80cb095",
   "metadata": {},
   "outputs": [],
   "source": [
    "x = np.array([10,40,25,30,15,38,7])\n",
    "y = np.array([5,38,22,25,29,34,19])"
   ]
  },
  {
   "cell_type": "code",
   "execution_count": 8,
   "id": "644572cd",
   "metadata": {},
   "outputs": [
    {
     "data": {
      "image/png": "[encoded data removed]",
      "text/plain": [
       "<Figure size 432x288 with 1 Axes>"
      ]
     },
     "metadata": {
      "needs_background": "light"
     },
     "output_type": "display_data"
    }
   ],
   "source": [
    "# plotting the raw values\n",
    "plt.scatter(x,y, c='red')\n",
    "plt.show()"
   ]
  },
  {
   "cell_type": "code",
   "execution_count": 9,
   "id": "a3bfe5c5",
   "metadata": {},
   "outputs": [
    {
     "data": {
      "text/plain": [
       "(7,)"
      ]
     },
     "execution_count": 9,
     "metadata": {},
     "output_type": "execute_result"
    }
   ],
   "source": [
    "x.shape"
   ]
  },
  {
   "cell_type": "code",
   "execution_count": 10,
   "id": "76f5b8f5",
   "metadata": {},
   "outputs": [
    {
     "data": {
      "text/plain": [
       "(7, 1)"
      ]
     },
     "execution_count": 10,
     "metadata": {},
     "output_type": "execute_result"
    }
   ],
   "source": [
    "x =x.reshape(7,1) # linear regress. wants two dimens. data that's why we converted into 2D\n",
    "x.shape"
   ]
  },
  {
   "cell_type": "code",
   "execution_count": 11,
   "id": "bb81a25e",
   "metadata": {},
   "outputs": [
    {
     "data": {
      "text/plain": [
       "(7,)"
      ]
     },
     "execution_count": 11,
     "metadata": {},
     "output_type": "execute_result"
    }
   ],
   "source": [
    "y.shape"
   ]
  },
  {
   "cell_type": "code",
   "execution_count": 12,
   "id": "c87bb255",
   "metadata": {},
   "outputs": [],
   "source": [
    "lr = LinearRegression()"
   ]
  },
  {
   "cell_type": "code",
   "execution_count": 13,
   "id": "6958b097",
   "metadata": {},
   "outputs": [
    {
     "data": {
      "text/plain": [
       "LinearRegression()"
      ]
     },
     "execution_count": 13,
     "metadata": {},
     "output_type": "execute_result"
    }
   ],
   "source": [
    "lr.fit(x,y)"
   ]
  },
  {
   "cell_type": "code",
   "execution_count": 14,
   "id": "446aea32",
   "metadata": {},
   "outputs": [
    {
     "name": "stdout",
     "output_type": "stream",
     "text": [
      "9.45580260303687\n",
      "[0.64126898]\n"
     ]
    }
   ],
   "source": [
    "intercept = lr.intercept_\n",
    "slope = lr.coef_\n",
    "\n",
    "print(intercept)\n",
    "print(slope)"
   ]
  },
  {
   "cell_type": "code",
   "execution_count": 15,
   "id": "7cad7076",
   "metadata": {},
   "outputs": [],
   "source": [
    "# y = mx+c\n",
    "y_predicted = slope*(x) + intercept"
   ]
  },
  {
   "cell_type": "code",
   "execution_count": 16,
   "id": "ffcc1f87",
   "metadata": {},
   "outputs": [
    {
     "data": {
      "text/plain": [
       "array([[15.86849241],\n",
       "       [35.10656182],\n",
       "       [25.48752711],\n",
       "       [28.69387202],\n",
       "       [19.07483731],\n",
       "       [33.82402386],\n",
       "       [13.94468547]])"
      ]
     },
     "execution_count": 16,
     "metadata": {},
     "output_type": "execute_result"
    }
   ],
   "source": [
    "y_predicted"
   ]
  },
  {
   "cell_type": "code",
   "execution_count": 17,
   "id": "009b5993",
   "metadata": {},
   "outputs": [
    {
     "data": {
      "image/png": "[encoded data removed]",
      "text/plain": [
       "<Figure size 432x288 with 1 Axes>"
      ]
     },
     "metadata": {
      "needs_background": "light"
     },
     "output_type": "display_data"
    }
   ],
   "source": [
    "plt.scatter(x,y, c='red')\n",
    "plt.plot(x,y_predicted)\n",
    "plt.show()"
   ]
  },
  {
   "cell_type": "markdown",
   "id": "b013c7f4",
   "metadata": {},
   "source": [
    "Asessing the Linear Regression Model"
   ]
  },
  {
   "cell_type": "code",
   "execution_count": 18,
   "id": "f8fa8b6c",
   "metadata": {},
   "outputs": [],
   "source": [
    "from sklearn import metrics"
   ]
  },
  {
   "cell_type": "code",
   "execution_count": 19,
   "id": "3d73da45",
   "metadata": {},
   "outputs": [
    {
     "name": "stdout",
     "output_type": "stream",
     "text": [
      "Mean Absolute Error :  5.157111868608615\n",
      "Mean Squared Error :  39.48566780291292\n",
      "Root Mean Squared Error :  6.283762233161987\n",
      "R2 Error :  0.6105479624913983\n"
     ]
    }
   ],
   "source": [
    "print('Mean Absolute Error : ', metrics.mean_absolute_error(y,y_predicted))\n",
    "print('Mean Squared Error : ',metrics.mean_squared_error(y,y_predicted))\n",
    "print('Root Mean Squared Error : ',np.sqrt(metrics.mean_squared_error(y,y_predicted)))\n",
    "print('R2 Error : ',metrics.r2_score(y,y_predicted))"
   ]
  },
  {
   "cell_type": "code",
   "execution_count": null,
   "id": "3fb2f6c7",
   "metadata": {},
   "outputs": [],
   "source": [
    "Mean Absolute Error :  5.157111868608615\n",
    "Mean Squared Error :  39.48566780291292\n",
    "Root Mean Squared Error :  6.283762233161987\n",
    "R Error :  0.6105479624913983\n"
   ]
  }
 ],
 "metadata": {
  "kernelspec": {
   "display_name": "Python 3 (ipykernel)",
   "language": "python",
   "name": "python3"
  },
  "language_info": {
   "codemirror_mode": {
    "name": "ipython",
    "version": 3
   },
   "file_extension": ".py",
   "mimetype": "text/x-python",
   "name": "python",
   "nbconvert_exporter": "python",
   "pygments_lexer": "ipython3",
   "version": "3.9.7"
  }
 },
 "nbformat": 4,
 "nbformat_minor": 5
}
